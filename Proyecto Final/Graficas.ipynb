{
 "cells": [
  {
   "cell_type": "code",
   "execution_count": 2,
   "id": "43d57330-8ab8-4e29-b139-db734b5f97ab",
   "metadata": {},
   "outputs": [],
   "source": [
    "#Cargar Librerias\n",
    "import pandas as pd\n",
    "import numpy as np\n",
    "import matplotlib.pyplot as plt"
   ]
  },
  {
   "cell_type": "code",
   "execution_count": 3,
   "id": "473700d4-0b7c-4e39-9e28-b7b541471040",
   "metadata": {},
   "outputs": [],
   "source": [
    "#Cargar documentos\n",
    "titanic = pd.read_csv(\"titanic.csv\")"
   ]
  },
  {
   "cell_type": "code",
   "execution_count": 4,
   "id": "4fa8a875-1fe3-4367-ab7d-b8d1b659dfef",
   "metadata": {},
   "outputs": [],
   "source": [
    "#Impresion del dataframe\n",
    "df = pd.DataFrame(titanic)"
   ]
  },
  {
   "cell_type": "code",
   "execution_count": 5,
   "id": "d30cbcdb-47bc-4034-9196-2140ef03cddd",
   "metadata": {},
   "outputs": [
    {
     "data": {
      "text/plain": [
       "'male'"
      ]
     },
     "execution_count": 5,
     "metadata": {},
     "output_type": "execute_result"
    }
   ],
   "source": [
    "M = df.loc[0,'Sex'] \n",
    "M"
   ]
  },
  {
   "cell_type": "code",
   "execution_count": 6,
   "id": "c41a998b-4a48-4144-8cc9-8bbe86399d40",
   "metadata": {},
   "outputs": [],
   "source": [
    "T_HV = 0\n",
    "T_HF = 0\n",
    "T_MV = 0\n",
    "T_MF = 0\n",
    "\n",
    "for i in range(0,len(df)):\n",
    "    if df.loc[i,'Sex'] == M:\n",
    "        if df.loc[i,'Survived'] == 1:\n",
    "            T_HV += 1\n",
    "        else: \n",
    "            T_HF += 1\n",
    "    else:\n",
    "        if df.loc[i,'Survived'] == 1:\n",
    "            T_MV += 1\n",
    "        else:\n",
    "            T_MF += 1  "
   ]
  },
  {
   "cell_type": "code",
   "execution_count": 7,
   "id": "e04c81c3-0fbc-470b-8fa4-c14f278391ad",
   "metadata": {},
   "outputs": [
    {
     "data": {
      "text/plain": [
       "464"
      ]
     },
     "execution_count": 7,
     "metadata": {},
     "output_type": "execute_result"
    }
   ],
   "source": [
    "T_HF "
   ]
  },
  {
   "cell_type": "code",
   "execution_count": 8,
   "id": "9b86dad9-6590-4083-97ed-60b794a64d24",
   "metadata": {},
   "outputs": [
    {
     "data": {
      "text/plain": [
       "233"
      ]
     },
     "execution_count": 8,
     "metadata": {},
     "output_type": "execute_result"
    }
   ],
   "source": [
    "T_MV "
   ]
  },
  {
   "cell_type": "code",
   "execution_count": 9,
   "id": "e632cd04-387b-4d1e-ad86-c9c433980a4b",
   "metadata": {},
   "outputs": [
    {
     "data": {
      "text/plain": [
       "81"
      ]
     },
     "execution_count": 9,
     "metadata": {},
     "output_type": "execute_result"
    }
   ],
   "source": [
    "T_MF"
   ]
  },
  {
   "cell_type": "code",
   "execution_count": 10,
   "id": "82e302c9-bc3e-473a-aae5-96287ae3d436",
   "metadata": {},
   "outputs": [
    {
     "data": {
      "text/plain": [
       "109"
      ]
     },
     "execution_count": 10,
     "metadata": {},
     "output_type": "execute_result"
    }
   ],
   "source": [
    "T_HV"
   ]
  },
  {
   "cell_type": "code",
   "execution_count": 11,
   "id": "59dd2c6b-b355-4d2c-846b-aef9af4adc31",
   "metadata": {},
   "outputs": [
    {
     "data": {
      "text/plain": [
       "<function matplotlib.pyplot.show(close=None, block=None)>"
      ]
     },
     "execution_count": 11,
     "metadata": {},
     "output_type": "execute_result"
    },
    {
     "data": {
      "image/png": "[encoded data removed]",
      "text/plain": [
       "<Figure size 432x288 with 1 Axes>"
      ]
     },
     "metadata": {},
     "output_type": "display_data"
    }
   ],
   "source": [
    "eti = ['Hombres V.','Hombres F.','Mujeres V.','Mujeres F.']\n",
    "can = [T_HV, T_HF, T_MV, T_MF]\n",
    "col = ['green', 'yellow', 'blue', 'purple']\n",
    "\n",
    "plt.pie(can, labels = eti, colors = col, autopct = ('%1.f%%'))\n",
    "plt.show"
   ]
  },
  {
   "cell_type": "code",
   "execution_count": 12,
   "id": "4ab402a6-59f3-4461-bd7f-09f611510822",
   "metadata": {},
   "outputs": [
    {
     "data": {
      "text/html": [
       "<div>\n",
       "<style scoped>\n",
       "    .dataframe tbody tr th:only-of-type {\n",
       "        vertical-align: middle;\n",
       "    }\n",
       "\n",
       "    .dataframe tbody tr th {\n",
       "        vertical-align: top;\n",
       "    }\n",
       "\n",
       "    .dataframe thead th {\n",
       "        text-align: right;\n",
       "    }\n",
       "</style>\n",
       "<table border=\"1\" class=\"dataframe\">\n",
       "  <thead>\n",
       "    <tr style=\"text-align: right;\">\n",
       "      <th></th>\n",
       "      <th>Survived</th>\n",
       "      <th>Pclass</th>\n",
       "      <th>Name</th>\n",
       "      <th>Sex</th>\n",
       "      <th>Age</th>\n",
       "      <th>Siblings/Spouses Aboard</th>\n",
       "      <th>Parents/Children Aboard</th>\n",
       "      <th>Fare</th>\n",
       "    </tr>\n",
       "  </thead>\n",
       "  <tbody>\n",
       "    <tr>\n",
       "      <th>0</th>\n",
       "      <td>0</td>\n",
       "      <td>3</td>\n",
       "      <td>Mr. Owen Harris Braund</td>\n",
       "      <td>male</td>\n",
       "      <td>22.0</td>\n",
       "      <td>1</td>\n",
       "      <td>0</td>\n",
       "      <td>7.2500</td>\n",
       "    </tr>\n",
       "    <tr>\n",
       "      <th>1</th>\n",
       "      <td>1</td>\n",
       "      <td>1</td>\n",
       "      <td>Mrs. John Bradley (Florence Briggs Thayer) Cum...</td>\n",
       "      <td>female</td>\n",
       "      <td>38.0</td>\n",
       "      <td>1</td>\n",
       "      <td>0</td>\n",
       "      <td>71.2833</td>\n",
       "    </tr>\n",
       "    <tr>\n",
       "      <th>2</th>\n",
       "      <td>1</td>\n",
       "      <td>3</td>\n",
       "      <td>Miss. Laina Heikkinen</td>\n",
       "      <td>female</td>\n",
       "      <td>26.0</td>\n",
       "      <td>0</td>\n",
       "      <td>0</td>\n",
       "      <td>7.9250</td>\n",
       "    </tr>\n",
       "    <tr>\n",
       "      <th>3</th>\n",
       "      <td>1</td>\n",
       "      <td>1</td>\n",
       "      <td>Mrs. Jacques Heath (Lily May Peel) Futrelle</td>\n",
       "      <td>female</td>\n",
       "      <td>35.0</td>\n",
       "      <td>1</td>\n",
       "      <td>0</td>\n",
       "      <td>53.1000</td>\n",
       "    </tr>\n",
       "    <tr>\n",
       "      <th>4</th>\n",
       "      <td>0</td>\n",
       "      <td>3</td>\n",
       "      <td>Mr. William Henry Allen</td>\n",
       "      <td>male</td>\n",
       "      <td>35.0</td>\n",
       "      <td>0</td>\n",
       "      <td>0</td>\n",
       "      <td>8.0500</td>\n",
       "    </tr>\n",
       "    <tr>\n",
       "      <th>...</th>\n",
       "      <td>...</td>\n",
       "      <td>...</td>\n",
       "      <td>...</td>\n",
       "      <td>...</td>\n",
       "      <td>...</td>\n",
       "      <td>...</td>\n",
       "      <td>...</td>\n",
       "      <td>...</td>\n",
       "    </tr>\n",
       "    <tr>\n",
       "      <th>882</th>\n",
       "      <td>0</td>\n",
       "      <td>2</td>\n",
       "      <td>Rev. Juozas Montvila</td>\n",
       "      <td>male</td>\n",
       "      <td>27.0</td>\n",
       "      <td>0</td>\n",
       "      <td>0</td>\n",
       "      <td>13.0000</td>\n",
       "    </tr>\n",
       "    <tr>\n",
       "      <th>883</th>\n",
       "      <td>1</td>\n",
       "      <td>1</td>\n",
       "      <td>Miss. Margaret Edith Graham</td>\n",
       "      <td>female</td>\n",
       "      <td>19.0</td>\n",
       "      <td>0</td>\n",
       "      <td>0</td>\n",
       "      <td>30.0000</td>\n",
       "    </tr>\n",
       "    <tr>\n",
       "      <th>884</th>\n",
       "      <td>0</td>\n",
       "      <td>3</td>\n",
       "      <td>Miss. Catherine Helen Johnston</td>\n",
       "      <td>female</td>\n",
       "      <td>7.0</td>\n",
       "      <td>1</td>\n",
       "      <td>2</td>\n",
       "      <td>23.4500</td>\n",
       "    </tr>\n",
       "    <tr>\n",
       "      <th>885</th>\n",
       "      <td>1</td>\n",
       "      <td>1</td>\n",
       "      <td>Mr. Karl Howell Behr</td>\n",
       "      <td>male</td>\n",
       "      <td>26.0</td>\n",
       "      <td>0</td>\n",
       "      <td>0</td>\n",
       "      <td>30.0000</td>\n",
       "    </tr>\n",
       "    <tr>\n",
       "      <th>886</th>\n",
       "      <td>0</td>\n",
       "      <td>3</td>\n",
       "      <td>Mr. Patrick Dooley</td>\n",
       "      <td>male</td>\n",
       "      <td>32.0</td>\n",
       "      <td>0</td>\n",
       "      <td>0</td>\n",
       "      <td>7.7500</td>\n",
       "    </tr>\n",
       "  </tbody>\n",
       "</table>\n",
       "<p>887 rows × 8 columns</p>\n",
       "</div>"
      ],
      "text/plain": [
       "     Survived  Pclass                                               Name  \\\n",
       "0           0       3                             Mr. Owen Harris Braund   \n",
       "1           1       1  Mrs. John Bradley (Florence Briggs Thayer) Cum...   \n",
       "2           1       3                              Miss. Laina Heikkinen   \n",
       "3           1       1        Mrs. Jacques Heath (Lily May Peel) Futrelle   \n",
       "4           0       3                            Mr. William Henry Allen   \n",
       "..        ...     ...                                                ...   \n",
       "882         0       2                               Rev. Juozas Montvila   \n",
       "883         1       1                        Miss. Margaret Edith Graham   \n",
       "884         0       3                     Miss. Catherine Helen Johnston   \n",
       "885         1       1                               Mr. Karl Howell Behr   \n",
       "886         0       3                                 Mr. Patrick Dooley   \n",
       "\n",
       "        Sex   Age  Siblings/Spouses Aboard  Parents/Children Aboard     Fare  \n",
       "0      male  22.0                        1                        0   7.2500  \n",
       "1    female  38.0                        1                        0  71.2833  \n",
       "2    female  26.0                        0                        0   7.9250  \n",
       "3    female  35.0                        1                        0  53.1000  \n",
       "4      male  35.0                        0                        0   8.0500  \n",
       "..      ...   ...                      ...                      ...      ...  \n",
       "882    male  27.0                        0                        0  13.0000  \n",
       "883  female  19.0                        0                        0  30.0000  \n",
       "884  female   7.0                        1                        2  23.4500  \n",
       "885    male  26.0                        0                        0  30.0000  \n",
       "886    male  32.0                        0                        0   7.7500  \n",
       "\n",
       "[887 rows x 8 columns]"
      ]
     },
     "execution_count": 12,
     "metadata": {},
     "output_type": "execute_result"
    }
   ],
   "source": [
    "df"
   ]
  },
  {
   "cell_type": "code",
   "execution_count": 13,
   "id": "5c6275c3-1bdd-4da0-99b5-f7cd5315cde5",
   "metadata": {},
   "outputs": [],
   "source": [
    "M_1= 0\n",
    "M_2= 0\n",
    "M_3= 0\n",
    "H_1= 0\n",
    "H_2= 0\n",
    "H_3= 0\n",
    "\n",
    "for i in range(0,len(df)):\n",
    "    if df.loc[i,'Sex'] == M:\n",
    "        if df.loc[i,'Pclass'] == 1:\n",
    "            H_1+= 1\n",
    "        if df.loc[i,'Pclass'] == 2:\n",
    "            H_2+= 1\n",
    "        if df.loc[i,'Pclass'] == 3:\n",
    "            H_3+= 1\n",
    "    else:\n",
    "        if df.loc[i,'Pclass'] == 1:\n",
    "            M_1+= 1\n",
    "        if df.loc[i,'Pclass'] == 2:\n",
    "            M_2+= 1\n",
    "        if df.loc[i,'Pclass'] == 3:\n",
    "            M_3+= 1"
   ]
  },
  {
   "cell_type": "code",
   "execution_count": 14,
   "id": "69583ba7-b6c1-4293-b6ba-c67af5561d99",
   "metadata": {},
   "outputs": [
    {
     "data": {
      "text/plain": [
       "94"
      ]
     },
     "execution_count": 14,
     "metadata": {},
     "output_type": "execute_result"
    }
   ],
   "source": [
    "M_1"
   ]
  },
  {
   "cell_type": "code",
   "execution_count": 15,
   "id": "ff78aa3e-71d3-4dac-a9a1-e9a44f382148",
   "metadata": {},
   "outputs": [
    {
     "data": {
      "text/plain": [
       "76"
      ]
     },
     "execution_count": 15,
     "metadata": {},
     "output_type": "execute_result"
    }
   ],
   "source": [
    "M_2"
   ]
  },
  {
   "cell_type": "code",
   "execution_count": 16,
   "id": "cddb79c2-40fe-4eed-8949-97fdb2bcf9a4",
   "metadata": {},
   "outputs": [
    {
     "data": {
      "text/plain": [
       "144"
      ]
     },
     "execution_count": 16,
     "metadata": {},
     "output_type": "execute_result"
    }
   ],
   "source": [
    "M_3"
   ]
  },
  {
   "cell_type": "code",
   "execution_count": 17,
   "id": "bd957a02-14bd-49d3-aaa1-60f0ccfacc23",
   "metadata": {},
   "outputs": [
    {
     "data": {
      "text/plain": [
       "122"
      ]
     },
     "execution_count": 17,
     "metadata": {},
     "output_type": "execute_result"
    }
   ],
   "source": [
    "H_1"
   ]
  },
  {
   "cell_type": "code",
   "execution_count": 18,
   "id": "c52fbd2e-e566-4cab-a2ff-6411f5e41429",
   "metadata": {},
   "outputs": [
    {
     "data": {
      "text/plain": [
       "108"
      ]
     },
     "execution_count": 18,
     "metadata": {},
     "output_type": "execute_result"
    }
   ],
   "source": [
    "H_2"
   ]
  },
  {
   "cell_type": "code",
   "execution_count": 19,
   "id": "d5a1f248-9485-4c5c-8443-b3432f5a7f79",
   "metadata": {},
   "outputs": [
    {
     "data": {
      "text/plain": [
       "343"
      ]
     },
     "execution_count": 19,
     "metadata": {},
     "output_type": "execute_result"
    }
   ],
   "source": [
    "H_3"
   ]
  },
  {
   "cell_type": "code",
   "execution_count": 20,
   "id": "9e4eb09c-c46a-48bc-a5c7-5880798c4064",
   "metadata": {},
   "outputs": [
    {
     "data": {
      "text/plain": [
       "<function matplotlib.pyplot.show(close=None, block=None)>"
      ]
     },
     "execution_count": 20,
     "metadata": {},
     "output_type": "execute_result"
    },
    {
     "data": {
      "image/png": "[encoded data removed]",
      "text/plain": [
       "<Figure size 432x288 with 1 Axes>"
      ]
     },
     "metadata": {},
     "output_type": "display_data"
    }
   ],
   "source": [
    "eti = ['Mujer 1','Mujer 2','Mujer 3','Hombre 1','Hombre 2','Hombre 3']\n",
    "can = [M_1,M_2,M_3,H_1,H_2,H_3]\n",
    "col = ['yellow', 'blue', 'purple', 'red', 'green', 'violet']\n",
    "\n",
    "plt.pie(can, labels = eti, colors = col, autopct = ('%1.f%%'))\n",
    "plt.show"
   ]
  },
  {
   "cell_type": "code",
   "execution_count": 21,
   "id": "9b8d5281-396a-4136-9eca-fd9cee61c767",
   "metadata": {},
   "outputs": [],
   "source": [
    "C_U = 0.0\n",
    "C_D = 0.0\n",
    "C_T = 0.0\n",
    "\n",
    "r=0\n",
    "r_r=0\n",
    "r_r_r=0\n",
    "for i in range(0,len(df)):\n",
    "    if df.loc[i,'Pclass'] == 1:\n",
    "        g = df.loc[i,'Fare']\n",
    "        C_U = C_U + float(g)\n",
    "        r = r + 1\n",
    "    if df.loc[i,'Pclass'] == 2:\n",
    "        h = df.loc[i,'Fare']\n",
    "        C_D = C_D + float(h)\n",
    "        r_r = r_r + 1\n",
    "            \n",
    "    if df.loc[i,'Pclass'] == 3:\n",
    "        f = df.loc[i,'Fare']\n",
    "        C_T = C_T + float(f)\n",
    "        r_r_r = r_r_r + 1\n",
    "            \n",
    "        "
   ]
  },
  {
   "cell_type": "code",
   "execution_count": 22,
   "id": "ea5716e5-7d7f-44a1-a677-3f28c8b22dbd",
   "metadata": {},
   "outputs": [
    {
     "data": {
      "text/plain": [
       "Survived                                                                 342\n",
       "Pclass                                                                  2045\n",
       "Name                       Mr. Owen Harris BraundMrs. John Bradley (Flore...\n",
       "Sex                        malefemalefemalefemalemalemalemalemalefemalefe...\n",
       "Age                                                                 26141.17\n",
       "Siblings/Spouses Aboard                                                  466\n",
       "Parents/Children Aboard                                                  340\n",
       "Fare                                                              28654.9077\n",
       "dtype: object"
      ]
     },
     "execution_count": 22,
     "metadata": {},
     "output_type": "execute_result"
    }
   ],
   "source": [
    "#Verificando la suma de todos los pagos hechos\n",
    "df.sum()"
   ]
  },
  {
   "cell_type": "code",
   "execution_count": 23,
   "id": "3c443735-80cd-4356-a409-0847cb4039f3",
   "metadata": {},
   "outputs": [
    {
     "data": {
      "text/plain": [
       "28654.90769999999"
      ]
     },
     "execution_count": 23,
     "metadata": {},
     "output_type": "execute_result"
    }
   ],
   "source": [
    "#Suma total de los pagos\n",
    "C_U + C_D + C_T"
   ]
  },
  {
   "cell_type": "code",
   "execution_count": 24,
   "id": "5bc0dd87-73bd-4c5f-92d2-ea2e6ed3893a",
   "metadata": {},
   "outputs": [
    {
     "data": {
      "text/plain": [
       "216"
      ]
     },
     "execution_count": 24,
     "metadata": {},
     "output_type": "execute_result"
    }
   ],
   "source": [
    "#Cantidad de Personas con clase 1\n",
    "r"
   ]
  },
  {
   "cell_type": "code",
   "execution_count": 25,
   "id": "18888830-2e7b-4c12-8c7b-1db4ac2be697",
   "metadata": {},
   "outputs": [
    {
     "data": {
      "text/plain": [
       "184"
      ]
     },
     "execution_count": 25,
     "metadata": {},
     "output_type": "execute_result"
    }
   ],
   "source": [
    "#Cantidad de Personas con clase 2\n",
    "r_r"
   ]
  },
  {
   "cell_type": "code",
   "execution_count": 26,
   "id": "654a6877-9989-404a-a9a2-fd665b5926b3",
   "metadata": {},
   "outputs": [
    {
     "data": {
      "text/plain": [
       "487"
      ]
     },
     "execution_count": 26,
     "metadata": {},
     "output_type": "execute_result"
    }
   ],
   "source": [
    "#Cantidad de Personas con clase 3\n",
    "r_r_r"
   ]
  },
  {
   "cell_type": "code",
   "execution_count": 27,
   "id": "6841bdbc-cadf-4454-8a62-4ce6a9e360d2",
   "metadata": {},
   "outputs": [
    {
     "data": {
      "text/plain": [
       "84.15468749999992"
      ]
     },
     "execution_count": 27,
     "metadata": {},
     "output_type": "execute_result"
    }
   ],
   "source": [
    "#Promedio de cada clase\n",
    "P_U = C_U/r\n",
    "P_D = C_D/r_r\n",
    "P_T = C_T/r_r_r\n",
    "\n",
    "#Clase 1\n",
    "P_U "
   ]
  },
  {
   "cell_type": "code",
   "execution_count": 28,
   "id": "34e0be25-d0d0-45f7-aa36-86881c4c5c72",
   "metadata": {},
   "outputs": [
    {
     "data": {
      "text/plain": [
       "20.66218315217391"
      ]
     },
     "execution_count": 28,
     "metadata": {},
     "output_type": "execute_result"
    }
   ],
   "source": [
    "#Clase 2\n",
    "P_D"
   ]
  },
  {
   "cell_type": "code",
   "execution_count": 29,
   "id": "913f6e2d-18c9-4ee3-a2cf-27caa2ebb455",
   "metadata": {},
   "outputs": [
    {
     "data": {
      "text/plain": [
       "13.707707392197129"
      ]
     },
     "execution_count": 29,
     "metadata": {},
     "output_type": "execute_result"
    }
   ],
   "source": [
    "#Clase 3\n",
    "P_T"
   ]
  },
  {
   "cell_type": "code",
   "execution_count": 30,
   "id": "9a4eab72-255a-48ca-9d94-3af7239d7840",
   "metadata": {},
   "outputs": [
    {
     "data": {
      "text/plain": [
       "<function matplotlib.pyplot.show(close=None, block=None)>"
      ]
     },
     "execution_count": 30,
     "metadata": {},
     "output_type": "execute_result"
    },
    {
     "data": {
      "image/png": "[encoded data removed]",
      "text/plain": [
       "<Figure size 432x288 with 1 Axes>"
      ]
     },
     "metadata": {},
     "output_type": "display_data"
    }
   ],
   "source": [
    "eti = ['Clase 1.','Clase 2','Clase 3.']\n",
    "can = [r,r_r,r_r_r]\n",
    "col = ['yellow', 'blue', 'purple']\n",
    "\n",
    "plt.pie(can, labels = eti, colors = col, autopct = ('%1.f%%'))\n",
    "plt.show"
   ]
  },
  {
   "cell_type": "code",
   "execution_count": 31,
   "id": "e1fdc261-7c9e-4ae3-8064-ca29f2d5519a",
   "metadata": {},
   "outputs": [
    {
     "data": {
      "text/html": [
       "<div>\n",
       "<style scoped>\n",
       "    .dataframe tbody tr th:only-of-type {\n",
       "        vertical-align: middle;\n",
       "    }\n",
       "\n",
       "    .dataframe tbody tr th {\n",
       "        vertical-align: top;\n",
       "    }\n",
       "\n",
       "    .dataframe thead th {\n",
       "        text-align: right;\n",
       "    }\n",
       "</style>\n",
       "<table border=\"1\" class=\"dataframe\">\n",
       "  <thead>\n",
       "    <tr style=\"text-align: right;\">\n",
       "      <th></th>\n",
       "      <th>Survived</th>\n",
       "      <th>Pclass</th>\n",
       "      <th>Name</th>\n",
       "      <th>Sex</th>\n",
       "      <th>Age</th>\n",
       "      <th>Siblings/Spouses Aboard</th>\n",
       "      <th>Parents/Children Aboard</th>\n",
       "      <th>Fare</th>\n",
       "    </tr>\n",
       "  </thead>\n",
       "  <tbody>\n",
       "    <tr>\n",
       "      <th>0</th>\n",
       "      <td>0</td>\n",
       "      <td>3</td>\n",
       "      <td>Mr. Owen Harris Braund</td>\n",
       "      <td>male</td>\n",
       "      <td>22.0</td>\n",
       "      <td>1</td>\n",
       "      <td>0</td>\n",
       "      <td>7.2500</td>\n",
       "    </tr>\n",
       "    <tr>\n",
       "      <th>1</th>\n",
       "      <td>1</td>\n",
       "      <td>1</td>\n",
       "      <td>Mrs. John Bradley (Florence Briggs Thayer) Cum...</td>\n",
       "      <td>female</td>\n",
       "      <td>38.0</td>\n",
       "      <td>1</td>\n",
       "      <td>0</td>\n",
       "      <td>71.2833</td>\n",
       "    </tr>\n",
       "    <tr>\n",
       "      <th>2</th>\n",
       "      <td>1</td>\n",
       "      <td>3</td>\n",
       "      <td>Miss. Laina Heikkinen</td>\n",
       "      <td>female</td>\n",
       "      <td>26.0</td>\n",
       "      <td>0</td>\n",
       "      <td>0</td>\n",
       "      <td>7.9250</td>\n",
       "    </tr>\n",
       "    <tr>\n",
       "      <th>3</th>\n",
       "      <td>1</td>\n",
       "      <td>1</td>\n",
       "      <td>Mrs. Jacques Heath (Lily May Peel) Futrelle</td>\n",
       "      <td>female</td>\n",
       "      <td>35.0</td>\n",
       "      <td>1</td>\n",
       "      <td>0</td>\n",
       "      <td>53.1000</td>\n",
       "    </tr>\n",
       "    <tr>\n",
       "      <th>4</th>\n",
       "      <td>0</td>\n",
       "      <td>3</td>\n",
       "      <td>Mr. William Henry Allen</td>\n",
       "      <td>male</td>\n",
       "      <td>35.0</td>\n",
       "      <td>0</td>\n",
       "      <td>0</td>\n",
       "      <td>8.0500</td>\n",
       "    </tr>\n",
       "  </tbody>\n",
       "</table>\n",
       "</div>"
      ],
      "text/plain": [
       "   Survived  Pclass                                               Name  \\\n",
       "0         0       3                             Mr. Owen Harris Braund   \n",
       "1         1       1  Mrs. John Bradley (Florence Briggs Thayer) Cum...   \n",
       "2         1       3                              Miss. Laina Heikkinen   \n",
       "3         1       1        Mrs. Jacques Heath (Lily May Peel) Futrelle   \n",
       "4         0       3                            Mr. William Henry Allen   \n",
       "\n",
       "      Sex   Age  Siblings/Spouses Aboard  Parents/Children Aboard     Fare  \n",
       "0    male  22.0                        1                        0   7.2500  \n",
       "1  female  38.0                        1                        0  71.2833  \n",
       "2  female  26.0                        0                        0   7.9250  \n",
       "3  female  35.0                        1                        0  53.1000  \n",
       "4    male  35.0                        0                        0   8.0500  "
      ]
     },
     "execution_count": 31,
     "metadata": {},
     "output_type": "execute_result"
    }
   ],
   "source": [
    "df.head(5)"
   ]
  },
  {
   "cell_type": "code",
   "execution_count": null,
   "id": "31e8dcad-e6d6-4219-b192-0082e02a7a58",
   "metadata": {},
   "outputs": [],
   "source": []
  },
  {
   "cell_type": "code",
   "execution_count": null,
   "id": "0fac8f21-3401-489e-aa98-e1dfd4b73609",
   "metadata": {},
   "outputs": [],
   "source": []
  }
 ],
 "metadata": {
  "kernelspec": {
   "display_name": "Python 3",
   "language": "python",
   "name": "python3"
  },
  "language_info": {
   "codemirror_mode": {
    "name": "ipython",
    "version": 3
   },
   "file_extension": ".py",
   "mimetype": "text/x-python",
   "name": "python",
   "nbconvert_exporter": "python",
   "pygments_lexer": "ipython3",
   "version": "3.8.10"
  }
 },
 "nbformat": 4,
 "nbformat_minor": 5
}
